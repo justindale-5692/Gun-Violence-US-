{
 "cells": [
  {
   "cell_type": "markdown",
   "id": "454dfce1",
   "metadata": {},
   "source": [
    "# 6.1 Supervised Machine Learning"
   ]
  },
  {
   "cell_type": "markdown",
   "id": "0a170586",
   "metadata": {},
   "source": [
    "# Index\n",
    "1. Importing Libraries and data\n",
    "2. Data Cleaning\n",
    "3. Visualizing Variables\n",
    "4. Data Prep for Regression Analysis\n",
    "5. Regression Analysis\n"
   ]
  },
  {
   "cell_type": "markdown",
   "id": "f5bffb0b",
   "metadata": {},
   "source": [
    "# 1. Importing Libraries and Data"
   ]
  },
  {
   "cell_type": "code",
   "execution_count": 1,
   "id": "1113b4d8",
   "metadata": {},
   "outputs": [],
   "source": [
    "# Import libraries\n",
    "import pandas as pd\n",
    "import numpy as np\n",
    "import os\n",
    "import seaborn as sns\n",
    "import matplotlib\n",
    "import matplotlib.pyplot as plt\n",
    "import sklearn\n",
    "from sklearn.model_selection import train_test_split\n",
    "from sklearn.linear_model import LinearRegression\n",
    "from sklearn.metrics import mean_squared_error, r2_score"
   ]
  },
  {
   "cell_type": "code",
   "execution_count": 2,
   "id": "e0b398b2",
   "metadata": {},
   "outputs": [],
   "source": [
    "# Display charts\n",
    "%matplotlib inline"
   ]
  },
  {
   "cell_type": "code",
   "execution_count": 3,
   "id": "472535ae",
   "metadata": {},
   "outputs": [],
   "source": [
    "# path to data folder\n",
    "path = r'C:\\Users\\justi\\OneDrive\\Desktop\\Class work\\Achievement 6\\Data\\Prepared Data'"
   ]
  },
  {
   "cell_type": "code",
   "execution_count": 4,
   "id": "1c6e96cc",
   "metadata": {},
   "outputs": [],
   "source": [
    "# Import data\n",
    "gv = pd.read_csv(os.path.join(path, 'Gun Violence Clean.csv'))"
   ]
  },
  {
   "cell_type": "code",
   "execution_count": 5,
   "id": "5ccd3bac",
   "metadata": {},
   "outputs": [
    {
     "data": {
      "text/html": [
       "<div>\n",
       "<style scoped>\n",
       "    .dataframe tbody tr th:only-of-type {\n",
       "        vertical-align: middle;\n",
       "    }\n",
       "\n",
       "    .dataframe tbody tr th {\n",
       "        vertical-align: top;\n",
       "    }\n",
       "\n",
       "    .dataframe thead th {\n",
       "        text-align: right;\n",
       "    }\n",
       "</style>\n",
       "<table border=\"1\" class=\"dataframe\">\n",
       "  <thead>\n",
       "    <tr style=\"text-align: right;\">\n",
       "      <th></th>\n",
       "      <th>Unnamed: 0</th>\n",
       "      <th>incident_id</th>\n",
       "      <th>date</th>\n",
       "      <th>state</th>\n",
       "      <th>city_or_county</th>\n",
       "      <th>number_killed</th>\n",
       "      <th>number_injured</th>\n",
       "      <th>latitude</th>\n",
       "      <th>longitude</th>\n",
       "    </tr>\n",
       "  </thead>\n",
       "  <tbody>\n",
       "    <tr>\n",
       "      <th>0</th>\n",
       "      <td>0</td>\n",
       "      <td>461105</td>\n",
       "      <td>1/1/2013</td>\n",
       "      <td>Pennsylvania</td>\n",
       "      <td>Mckeesport</td>\n",
       "      <td>0</td>\n",
       "      <td>4</td>\n",
       "      <td>40.3467</td>\n",
       "      <td>-79.8559</td>\n",
       "    </tr>\n",
       "    <tr>\n",
       "      <th>1</th>\n",
       "      <td>1</td>\n",
       "      <td>460726</td>\n",
       "      <td>1/1/2013</td>\n",
       "      <td>California</td>\n",
       "      <td>Hawthorne</td>\n",
       "      <td>1</td>\n",
       "      <td>3</td>\n",
       "      <td>33.9090</td>\n",
       "      <td>-118.3330</td>\n",
       "    </tr>\n",
       "    <tr>\n",
       "      <th>2</th>\n",
       "      <td>2</td>\n",
       "      <td>478855</td>\n",
       "      <td>1/1/2013</td>\n",
       "      <td>Ohio</td>\n",
       "      <td>Lorain</td>\n",
       "      <td>1</td>\n",
       "      <td>3</td>\n",
       "      <td>41.4455</td>\n",
       "      <td>-82.1377</td>\n",
       "    </tr>\n",
       "    <tr>\n",
       "      <th>3</th>\n",
       "      <td>3</td>\n",
       "      <td>478925</td>\n",
       "      <td>1/5/2013</td>\n",
       "      <td>Colorado</td>\n",
       "      <td>Aurora</td>\n",
       "      <td>4</td>\n",
       "      <td>0</td>\n",
       "      <td>39.6518</td>\n",
       "      <td>-104.8020</td>\n",
       "    </tr>\n",
       "    <tr>\n",
       "      <th>4</th>\n",
       "      <td>4</td>\n",
       "      <td>478959</td>\n",
       "      <td>1/7/2013</td>\n",
       "      <td>North Carolina</td>\n",
       "      <td>Greensboro</td>\n",
       "      <td>2</td>\n",
       "      <td>2</td>\n",
       "      <td>36.1140</td>\n",
       "      <td>-79.9569</td>\n",
       "    </tr>\n",
       "    <tr>\n",
       "      <th>5</th>\n",
       "      <td>5</td>\n",
       "      <td>478948</td>\n",
       "      <td>1/7/2013</td>\n",
       "      <td>Oklahoma</td>\n",
       "      <td>Tulsa</td>\n",
       "      <td>4</td>\n",
       "      <td>0</td>\n",
       "      <td>36.2405</td>\n",
       "      <td>-95.9768</td>\n",
       "    </tr>\n",
       "    <tr>\n",
       "      <th>6</th>\n",
       "      <td>6</td>\n",
       "      <td>479363</td>\n",
       "      <td>1/19/2013</td>\n",
       "      <td>New Mexico</td>\n",
       "      <td>Albuquerque</td>\n",
       "      <td>5</td>\n",
       "      <td>0</td>\n",
       "      <td>34.9791</td>\n",
       "      <td>-106.7160</td>\n",
       "    </tr>\n",
       "    <tr>\n",
       "      <th>7</th>\n",
       "      <td>7</td>\n",
       "      <td>479374</td>\n",
       "      <td>1/21/2013</td>\n",
       "      <td>Louisiana</td>\n",
       "      <td>New Orleans</td>\n",
       "      <td>0</td>\n",
       "      <td>5</td>\n",
       "      <td>29.9435</td>\n",
       "      <td>-90.0836</td>\n",
       "    </tr>\n",
       "    <tr>\n",
       "      <th>8</th>\n",
       "      <td>8</td>\n",
       "      <td>479389</td>\n",
       "      <td>1/21/2013</td>\n",
       "      <td>California</td>\n",
       "      <td>Brentwood</td>\n",
       "      <td>0</td>\n",
       "      <td>4</td>\n",
       "      <td>37.9656</td>\n",
       "      <td>-121.7180</td>\n",
       "    </tr>\n",
       "    <tr>\n",
       "      <th>9</th>\n",
       "      <td>9</td>\n",
       "      <td>492151</td>\n",
       "      <td>1/23/2013</td>\n",
       "      <td>Maryland</td>\n",
       "      <td>Baltimore</td>\n",
       "      <td>1</td>\n",
       "      <td>6</td>\n",
       "      <td>39.2899</td>\n",
       "      <td>-76.6412</td>\n",
       "    </tr>\n",
       "    <tr>\n",
       "      <th>10</th>\n",
       "      <td>10</td>\n",
       "      <td>491674</td>\n",
       "      <td>1/23/2013</td>\n",
       "      <td>Tennessee</td>\n",
       "      <td>Chattanooga</td>\n",
       "      <td>1</td>\n",
       "      <td>3</td>\n",
       "      <td>35.0221</td>\n",
       "      <td>-85.2697</td>\n",
       "    </tr>\n",
       "    <tr>\n",
       "      <th>11</th>\n",
       "      <td>11</td>\n",
       "      <td>479413</td>\n",
       "      <td>1/25/2013</td>\n",
       "      <td>Missouri</td>\n",
       "      <td>Saint Louis</td>\n",
       "      <td>1</td>\n",
       "      <td>3</td>\n",
       "      <td>38.7067</td>\n",
       "      <td>-90.2494</td>\n",
       "    </tr>\n",
       "    <tr>\n",
       "      <th>12</th>\n",
       "      <td>12</td>\n",
       "      <td>479561</td>\n",
       "      <td>1/26/2013</td>\n",
       "      <td>Louisiana</td>\n",
       "      <td>Charenton</td>\n",
       "      <td>2</td>\n",
       "      <td>3</td>\n",
       "      <td>29.8816</td>\n",
       "      <td>-91.5251</td>\n",
       "    </tr>\n",
       "    <tr>\n",
       "      <th>13</th>\n",
       "      <td>13</td>\n",
       "      <td>479554</td>\n",
       "      <td>1/26/2013</td>\n",
       "      <td>District of Columbia</td>\n",
       "      <td>Washington</td>\n",
       "      <td>0</td>\n",
       "      <td>5</td>\n",
       "      <td>38.8978</td>\n",
       "      <td>-76.9717</td>\n",
       "    </tr>\n",
       "    <tr>\n",
       "      <th>14</th>\n",
       "      <td>14</td>\n",
       "      <td>479460</td>\n",
       "      <td>1/26/2013</td>\n",
       "      <td>Ohio</td>\n",
       "      <td>Springfield</td>\n",
       "      <td>1</td>\n",
       "      <td>3</td>\n",
       "      <td>39.9252</td>\n",
       "      <td>-83.8218</td>\n",
       "    </tr>\n",
       "  </tbody>\n",
       "</table>\n",
       "</div>"
      ],
      "text/plain": [
       "    Unnamed: 0  incident_id       date                 state city_or_county  \\\n",
       "0            0       461105   1/1/2013          Pennsylvania     Mckeesport   \n",
       "1            1       460726   1/1/2013            California      Hawthorne   \n",
       "2            2       478855   1/1/2013                  Ohio         Lorain   \n",
       "3            3       478925   1/5/2013              Colorado         Aurora   \n",
       "4            4       478959   1/7/2013        North Carolina     Greensboro   \n",
       "5            5       478948   1/7/2013              Oklahoma          Tulsa   \n",
       "6            6       479363  1/19/2013            New Mexico    Albuquerque   \n",
       "7            7       479374  1/21/2013             Louisiana    New Orleans   \n",
       "8            8       479389  1/21/2013            California      Brentwood   \n",
       "9            9       492151  1/23/2013              Maryland      Baltimore   \n",
       "10          10       491674  1/23/2013             Tennessee    Chattanooga   \n",
       "11          11       479413  1/25/2013              Missouri    Saint Louis   \n",
       "12          12       479561  1/26/2013             Louisiana      Charenton   \n",
       "13          13       479554  1/26/2013  District of Columbia     Washington   \n",
       "14          14       479460  1/26/2013                  Ohio    Springfield   \n",
       "\n",
       "    number_killed  number_injured  latitude  longitude  \n",
       "0               0               4   40.3467   -79.8559  \n",
       "1               1               3   33.9090  -118.3330  \n",
       "2               1               3   41.4455   -82.1377  \n",
       "3               4               0   39.6518  -104.8020  \n",
       "4               2               2   36.1140   -79.9569  \n",
       "5               4               0   36.2405   -95.9768  \n",
       "6               5               0   34.9791  -106.7160  \n",
       "7               0               5   29.9435   -90.0836  \n",
       "8               0               4   37.9656  -121.7180  \n",
       "9               1               6   39.2899   -76.6412  \n",
       "10              1               3   35.0221   -85.2697  \n",
       "11              1               3   38.7067   -90.2494  \n",
       "12              2               3   29.8816   -91.5251  \n",
       "13              0               5   38.8978   -76.9717  \n",
       "14              1               3   39.9252   -83.8218  "
      ]
     },
     "execution_count": 5,
     "metadata": {},
     "output_type": "execute_result"
    }
   ],
   "source": [
    "# Check\n",
    "gv.head(15)"
   ]
  },
  {
   "cell_type": "markdown",
   "id": "ee597325",
   "metadata": {},
   "source": [
    "# 2. Data Cleaning"
   ]
  },
  {
   "cell_type": "code",
   "execution_count": 6,
   "id": "e0e04f6b",
   "metadata": {},
   "outputs": [
    {
     "data": {
      "text/plain": [
       "Index(['Unnamed: 0', 'incident_id', 'date', 'state', 'city_or_county',\n",
       "       'number_killed', 'number_injured', 'latitude', 'longitude'],\n",
       "      dtype='object')"
      ]
     },
     "execution_count": 6,
     "metadata": {},
     "output_type": "execute_result"
    }
   ],
   "source": [
    "gv.columns"
   ]
  },
  {
   "cell_type": "code",
   "execution_count": 7,
   "id": "7828fe03",
   "metadata": {},
   "outputs": [
    {
     "data": {
      "text/plain": [
       "(239677, 9)"
      ]
     },
     "execution_count": 7,
     "metadata": {},
     "output_type": "execute_result"
    }
   ],
   "source": [
    "gv.shape"
   ]
  },
  {
   "cell_type": "code",
   "execution_count": 8,
   "id": "b4aa4a5f",
   "metadata": {},
   "outputs": [],
   "source": [
    "# Dropping \"Unnamed : 0\" column\n",
    "gv = gv.drop(columns = ['Unnamed: 0'])"
   ]
  },
  {
   "cell_type": "code",
   "execution_count": 9,
   "id": "20794cce",
   "metadata": {},
   "outputs": [
    {
     "data": {
      "text/html": [
       "<div>\n",
       "<style scoped>\n",
       "    .dataframe tbody tr th:only-of-type {\n",
       "        vertical-align: middle;\n",
       "    }\n",
       "\n",
       "    .dataframe tbody tr th {\n",
       "        vertical-align: top;\n",
       "    }\n",
       "\n",
       "    .dataframe thead th {\n",
       "        text-align: right;\n",
       "    }\n",
       "</style>\n",
       "<table border=\"1\" class=\"dataframe\">\n",
       "  <thead>\n",
       "    <tr style=\"text-align: right;\">\n",
       "      <th></th>\n",
       "      <th>incident_id</th>\n",
       "      <th>date</th>\n",
       "      <th>state</th>\n",
       "      <th>city_or_county</th>\n",
       "      <th>number_killed</th>\n",
       "      <th>number_injured</th>\n",
       "      <th>latitude</th>\n",
       "      <th>longitude</th>\n",
       "    </tr>\n",
       "  </thead>\n",
       "  <tbody>\n",
       "    <tr>\n",
       "      <th>0</th>\n",
       "      <td>461105</td>\n",
       "      <td>1/1/2013</td>\n",
       "      <td>Pennsylvania</td>\n",
       "      <td>Mckeesport</td>\n",
       "      <td>0</td>\n",
       "      <td>4</td>\n",
       "      <td>40.3467</td>\n",
       "      <td>-79.8559</td>\n",
       "    </tr>\n",
       "    <tr>\n",
       "      <th>1</th>\n",
       "      <td>460726</td>\n",
       "      <td>1/1/2013</td>\n",
       "      <td>California</td>\n",
       "      <td>Hawthorne</td>\n",
       "      <td>1</td>\n",
       "      <td>3</td>\n",
       "      <td>33.9090</td>\n",
       "      <td>-118.3330</td>\n",
       "    </tr>\n",
       "    <tr>\n",
       "      <th>2</th>\n",
       "      <td>478855</td>\n",
       "      <td>1/1/2013</td>\n",
       "      <td>Ohio</td>\n",
       "      <td>Lorain</td>\n",
       "      <td>1</td>\n",
       "      <td>3</td>\n",
       "      <td>41.4455</td>\n",
       "      <td>-82.1377</td>\n",
       "    </tr>\n",
       "    <tr>\n",
       "      <th>3</th>\n",
       "      <td>478925</td>\n",
       "      <td>1/5/2013</td>\n",
       "      <td>Colorado</td>\n",
       "      <td>Aurora</td>\n",
       "      <td>4</td>\n",
       "      <td>0</td>\n",
       "      <td>39.6518</td>\n",
       "      <td>-104.8020</td>\n",
       "    </tr>\n",
       "    <tr>\n",
       "      <th>4</th>\n",
       "      <td>478959</td>\n",
       "      <td>1/7/2013</td>\n",
       "      <td>North Carolina</td>\n",
       "      <td>Greensboro</td>\n",
       "      <td>2</td>\n",
       "      <td>2</td>\n",
       "      <td>36.1140</td>\n",
       "      <td>-79.9569</td>\n",
       "    </tr>\n",
       "  </tbody>\n",
       "</table>\n",
       "</div>"
      ],
      "text/plain": [
       "   incident_id      date           state city_or_county  number_killed  \\\n",
       "0       461105  1/1/2013    Pennsylvania     Mckeesport              0   \n",
       "1       460726  1/1/2013      California      Hawthorne              1   \n",
       "2       478855  1/1/2013            Ohio         Lorain              1   \n",
       "3       478925  1/5/2013        Colorado         Aurora              4   \n",
       "4       478959  1/7/2013  North Carolina     Greensboro              2   \n",
       "\n",
       "   number_injured  latitude  longitude  \n",
       "0               4   40.3467   -79.8559  \n",
       "1               3   33.9090  -118.3330  \n",
       "2               3   41.4455   -82.1377  \n",
       "3               0   39.6518  -104.8020  \n",
       "4               2   36.1140   -79.9569  "
      ]
     },
     "execution_count": 9,
     "metadata": {},
     "output_type": "execute_result"
    }
   ],
   "source": [
    "# Check\n",
    "gv.head()"
   ]
  },
  {
   "cell_type": "code",
   "execution_count": 10,
   "id": "90202d3d",
   "metadata": {},
   "outputs": [],
   "source": [
    "# Check for duplicates\n",
    "dups = gv.duplicated()"
   ]
  },
  {
   "cell_type": "code",
   "execution_count": 11,
   "id": "f0d6a876",
   "metadata": {},
   "outputs": [
    {
     "data": {
      "text/plain": [
       "(239677,)"
      ]
     },
     "execution_count": 11,
     "metadata": {},
     "output_type": "execute_result"
    }
   ],
   "source": [
    "dups.shape"
   ]
  },
  {
   "cell_type": "markdown",
   "id": "6d7c2dbb",
   "metadata": {},
   "source": [
    "#\n",
    "No duplicates"
   ]
  },
  {
   "cell_type": "code",
   "execution_count": 12,
   "id": "9a224318",
   "metadata": {},
   "outputs": [
    {
     "data": {
      "text/plain": [
       "incident_id          0\n",
       "date                 0\n",
       "state                0\n",
       "city_or_county       0\n",
       "number_killed        0\n",
       "number_injured       0\n",
       "latitude          7923\n",
       "longitude         7923\n",
       "dtype: int64"
      ]
     },
     "execution_count": 12,
     "metadata": {},
     "output_type": "execute_result"
    }
   ],
   "source": [
    "# Check for missing values\n",
    "gv.isnull().sum()"
   ]
  },
  {
   "cell_type": "markdown",
   "id": "2481c41d",
   "metadata": {},
   "source": [
    "#\n",
    "Missing Values in latitude and Longitude, keeping those since we still have records for the state/city on those. "
   ]
  },
  {
   "cell_type": "code",
   "execution_count": 14,
   "id": "86d3f83c",
   "metadata": {},
   "outputs": [
    {
     "data": {
      "text/plain": [
       "<Axes: xlabel='number_killed', ylabel='Count'>"
      ]
     },
     "execution_count": 14,
     "metadata": {},
     "output_type": "execute_result"
    },
    {
     "data": {
      "image/png": "[encoded data removed]",
      "text/plain": [
       "<Figure size 640x480 with 1 Axes>"
      ]
     },
     "metadata": {},
     "output_type": "display_data"
    }
   ],
   "source": [
    "# Extreme Values\n",
    "sns.histplot(gv['number_killed'], bins = 20, kde = True)"
   ]
  },
  {
   "cell_type": "code",
   "execution_count": 15,
   "id": "c1a86ad5",
   "metadata": {},
   "outputs": [
    {
     "data": {
      "text/plain": [
       "<Axes: xlabel='number_injured', ylabel='Count'>"
      ]
     },
     "execution_count": 15,
     "metadata": {},
     "output_type": "execute_result"
    },
    {
     "data": {
      "image/png": "[encoded data removed]",
      "text/plain": [
       "<Figure size 640x480 with 1 Axes>"
      ]
     },
     "metadata": {},
     "output_type": "display_data"
    }
   ],
   "source": [
    "sns.histplot(gv['number_injured'], bins = 20, kde = True)"
   ]
  },
  {
   "cell_type": "markdown",
   "id": "2489ab72",
   "metadata": {},
   "source": [
    "# 3. Visualizing Variables"
   ]
  },
  {
   "cell_type": "code",
   "execution_count": 17,
   "id": "328dba4b",
   "metadata": {},
   "outputs": [
    {
     "data": {
      "image/png": "[encoded data removed]",
      "text/plain": [
       "<Figure size 640x480 with 1 Axes>"
      ]
     },
     "metadata": {},
     "output_type": "display_data"
    }
   ],
   "source": [
    "# Exploring variables visually with scatterplots\n",
    "gv.plot( x = 'latitude', y = 'number_injured',style= 'o')\n",
    "plt.title('Victims Injured VS. Latitude')\n",
    "plt.xlabel('Latitude')\n",
    "plt.ylabel('Victims Injured')\n",
    "plt.show()"
   ]
  },
  {
   "cell_type": "code",
   "execution_count": 18,
   "id": "d21e2a8b",
   "metadata": {},
   "outputs": [
    {
     "data": {
      "image/png": "[encoded data removed]",
      "text/plain": [
       "<Figure size 640x480 with 1 Axes>"
      ]
     },
     "metadata": {},
     "output_type": "display_data"
    }
   ],
   "source": [
    "gv.plot(x = 'longitude', y= 'number_killed',style= 'o')\n",
    "plt.title('Victims Killed VS. Longitude')\n",
    "plt.xlabel('Longitde')\n",
    "plt.ylabel('Vicitms Killed')\n",
    "plt.show()"
   ]
  },
  {
   "cell_type": "code",
   "execution_count": 19,
   "id": "518ceaca",
   "metadata": {},
   "outputs": [
    {
     "name": "stderr",
     "output_type": "stream",
     "text": [
      "C:\\Users\\justi\\AppData\\Local\\Temp\\ipykernel_25412\\259813368.py:1: UserWarning: \n",
      "\n",
      "`distplot` is a deprecated function and will be removed in seaborn v0.14.0.\n",
      "\n",
      "Please adapt your code to use either `displot` (a figure-level function with\n",
      "similar flexibility) or `histplot` (an axes-level function for histograms).\n",
      "\n",
      "For a guide to updating your code to use the new functions, please see\n",
      "https://gist.github.com/mwaskom/de44147ed2974457ad6372750bbe5751\n",
      "\n",
      "  sns.distplot(gv['number_killed'], bins=20)\n"
     ]
    },
    {
     "data": {
      "text/plain": [
       "<Axes: xlabel='number_killed', ylabel='Density'>"
      ]
     },
     "execution_count": 19,
     "metadata": {},
     "output_type": "execute_result"
    },
    {
     "data": {
      "image/png": "[encoded data removed]",
      "text/plain": [
       "<Figure size 640x480 with 1 Axes>"
      ]
     },
     "metadata": {},
     "output_type": "display_data"
    }
   ],
   "source": [
    "sns.distplot(gv['number_killed'], bins=20)"
   ]
  },
  {
   "cell_type": "markdown",
   "id": "ffe3ce9a",
   "metadata": {},
   "source": [
    "#\n",
    "I will be leaving extreme values as they are actual incidents where no suspects were arrested"
   ]
  },
  {
   "cell_type": "markdown",
   "id": "b8e51620",
   "metadata": {},
   "source": [
    "# \n",
    "Hypothesis\n",
    "There are more victims injured by gun violence than killed"
   ]
  },
  {
   "cell_type": "markdown",
   "id": "a1df96f1",
   "metadata": {},
   "source": [
    "# 4. Data Prep for Regresssion Analysis"
   ]
  },
  {
   "cell_type": "code",
   "execution_count": 20,
   "id": "4fc41e06",
   "metadata": {},
   "outputs": [
    {
     "data": {
      "image/png": "[encoded data removed]",
      "text/plain": [
       "<Figure size 640x480 with 1 Axes>"
      ]
     },
     "metadata": {},
     "output_type": "display_data"
    }
   ],
   "source": [
    "gv.plot(x = 'number_injured', y = 'number_killed',style= 'o')\n",
    "plt.title('Victims Injured VS. Vicitms Killed')\n",
    "plt.xlabel('Victims Injured')\n",
    "plt.ylabel('Victims Killed')\n",
    "plt.show()"
   ]
  },
  {
   "cell_type": "code",
   "execution_count": 37,
   "id": "26656d9c",
   "metadata": {},
   "outputs": [],
   "source": [
    "# Reshaping variables\n",
    "X = gv['number_injured'].values.reshape(-1,1)\n",
    "y = gv['number_killed'].values.reshape(-1,1)"
   ]
  },
  {
   "cell_type": "code",
   "execution_count": 38,
   "id": "0ab4dd0a",
   "metadata": {},
   "outputs": [
    {
     "data": {
      "text/plain": [
       "array([[4],\n",
       "       [3],\n",
       "       [3],\n",
       "       ...,\n",
       "       [1],\n",
       "       [0],\n",
       "       [0]], dtype=int64)"
      ]
     },
     "execution_count": 38,
     "metadata": {},
     "output_type": "execute_result"
    }
   ],
   "source": [
    "X"
   ]
  },
  {
   "cell_type": "code",
   "execution_count": 39,
   "id": "ca12faad",
   "metadata": {},
   "outputs": [
    {
     "data": {
      "text/plain": [
       "array([[0],\n",
       "       [1],\n",
       "       [1],\n",
       "       ...,\n",
       "       [0],\n",
       "       [1],\n",
       "       [2]], dtype=int64)"
      ]
     },
     "execution_count": 39,
     "metadata": {},
     "output_type": "execute_result"
    }
   ],
   "source": [
    "y"
   ]
  },
  {
   "cell_type": "code",
   "execution_count": 40,
   "id": "5bf36bc7",
   "metadata": {},
   "outputs": [],
   "source": [
    "# Splitting Data into a training and test set\n",
    "X_train, X_test, y_train, y_test = train_test_split(X, y, test_size=0.3, random_state=0)"
   ]
  },
  {
   "cell_type": "markdown",
   "id": "134807e5",
   "metadata": {},
   "source": [
    "# 5. Regression Analysis"
   ]
  },
  {
   "cell_type": "code",
   "execution_count": 41,
   "id": "379e6012",
   "metadata": {},
   "outputs": [],
   "source": [
    "# Create a regression object to fit onto training set\n",
    "regression = LinearRegression()"
   ]
  },
  {
   "cell_type": "code",
   "execution_count": 42,
   "id": "feb4b069",
   "metadata": {},
   "outputs": [
    {
     "data": {
      "text/html": [
       "<style>#sk-container-id-3 {color: black;background-color: white;}#sk-container-id-3 pre{padding: 0;}#sk-container-id-3 div.sk-toggleable {background-color: white;}#sk-container-id-3 label.sk-toggleable__label {cursor: pointer;display: block;width: 100%;margin-bottom: 0;padding: 0.3em;box-sizing: border-box;text-align: center;}#sk-container-id-3 label.sk-toggleable__label-arrow:before {content: \"▸\";float: left;margin-right: 0.25em;color: #696969;}#sk-container-id-3 label.sk-toggleable__label-arrow:hover:before {color: black;}#sk-container-id-3 div.sk-estimator:hover label.sk-toggleable__label-arrow:before {color: black;}#sk-container-id-3 div.sk-toggleable__content {max-height: 0;max-width: 0;overflow: hidden;text-align: left;background-color: #f0f8ff;}#sk-container-id-3 div.sk-toggleable__content pre {margin: 0.2em;color: black;border-radius: 0.25em;background-color: #f0f8ff;}#sk-container-id-3 input.sk-toggleable__control:checked~div.sk-toggleable__content {max-height: 200px;max-width: 100%;overflow: auto;}#sk-container-id-3 input.sk-toggleable__control:checked~label.sk-toggleable__label-arrow:before {content: \"▾\";}#sk-container-id-3 div.sk-estimator input.sk-toggleable__control:checked~label.sk-toggleable__label {background-color: #d4ebff;}#sk-container-id-3 div.sk-label input.sk-toggleable__control:checked~label.sk-toggleable__label {background-color: #d4ebff;}#sk-container-id-3 input.sk-hidden--visually {border: 0;clip: rect(1px 1px 1px 1px);clip: rect(1px, 1px, 1px, 1px);height: 1px;margin: -1px;overflow: hidden;padding: 0;position: absolute;width: 1px;}#sk-container-id-3 div.sk-estimator {font-family: monospace;background-color: #f0f8ff;border: 1px dotted black;border-radius: 0.25em;box-sizing: border-box;margin-bottom: 0.5em;}#sk-container-id-3 div.sk-estimator:hover {background-color: #d4ebff;}#sk-container-id-3 div.sk-parallel-item::after {content: \"\";width: 100%;border-bottom: 1px solid gray;flex-grow: 1;}#sk-container-id-3 div.sk-label:hover label.sk-toggleable__label {background-color: #d4ebff;}#sk-container-id-3 div.sk-serial::before {content: \"\";position: absolute;border-left: 1px solid gray;box-sizing: border-box;top: 0;bottom: 0;left: 50%;z-index: 0;}#sk-container-id-3 div.sk-serial {display: flex;flex-direction: column;align-items: center;background-color: white;padding-right: 0.2em;padding-left: 0.2em;position: relative;}#sk-container-id-3 div.sk-item {position: relative;z-index: 1;}#sk-container-id-3 div.sk-parallel {display: flex;align-items: stretch;justify-content: center;background-color: white;position: relative;}#sk-container-id-3 div.sk-item::before, #sk-container-id-3 div.sk-parallel-item::before {content: \"\";position: absolute;border-left: 1px solid gray;box-sizing: border-box;top: 0;bottom: 0;left: 50%;z-index: -1;}#sk-container-id-3 div.sk-parallel-item {display: flex;flex-direction: column;z-index: 1;position: relative;background-color: white;}#sk-container-id-3 div.sk-parallel-item:first-child::after {align-self: flex-end;width: 50%;}#sk-container-id-3 div.sk-parallel-item:last-child::after {align-self: flex-start;width: 50%;}#sk-container-id-3 div.sk-parallel-item:only-child::after {width: 0;}#sk-container-id-3 div.sk-dashed-wrapped {border: 1px dashed gray;margin: 0 0.4em 0.5em 0.4em;box-sizing: border-box;padding-bottom: 0.4em;background-color: white;}#sk-container-id-3 div.sk-label label {font-family: monospace;font-weight: bold;display: inline-block;line-height: 1.2em;}#sk-container-id-3 div.sk-label-container {text-align: center;}#sk-container-id-3 div.sk-container {/* jupyter's `normalize.less` sets `[hidden] { display: none; }` but bootstrap.min.css set `[hidden] { display: none !important; }` so we also need the `!important` here to be able to override the default hidden behavior on the sphinx rendered scikit-learn.org. See: https://github.com/scikit-learn/scikit-learn/issues/21755 */display: inline-block !important;position: relative;}#sk-container-id-3 div.sk-text-repr-fallback {display: none;}</style><div id=\"sk-container-id-3\" class=\"sk-top-container\"><div class=\"sk-text-repr-fallback\"><pre>LinearRegression()</pre><b>In a Jupyter environment, please rerun this cell to show the HTML representation or trust the notebook. <br />On GitHub, the HTML representation is unable to render, please try loading this page with nbviewer.org.</b></div><div class=\"sk-container\" hidden><div class=\"sk-item\"><div class=\"sk-estimator sk-toggleable\"><input class=\"sk-toggleable__control sk-hidden--visually\" id=\"sk-estimator-id-3\" type=\"checkbox\" checked><label for=\"sk-estimator-id-3\" class=\"sk-toggleable__label sk-toggleable__label-arrow\">LinearRegression</label><div class=\"sk-toggleable__content\"><pre>LinearRegression()</pre></div></div></div></div></div>"
      ],
      "text/plain": [
       "LinearRegression()"
      ]
     },
     "execution_count": 42,
     "metadata": {},
     "output_type": "execute_result"
    }
   ],
   "source": [
    "# Fit the regression object onto training set\n",
    "regression.fit(X_train, y_train)"
   ]
  },
  {
   "cell_type": "code",
   "execution_count": 43,
   "id": "c72ab477",
   "metadata": {},
   "outputs": [],
   "source": [
    "# Predict the y values using x values\n",
    "y_predicted = regression.predict(X_test)"
   ]
  },
  {
   "cell_type": "code",
   "execution_count": 44,
   "id": "a45b769c",
   "metadata": {},
   "outputs": [
    {
     "data": {
      "image/png": "[encoded data removed]",
      "text/plain": [
       "<Figure size 640x480 with 1 Axes>"
      ]
     },
     "metadata": {},
     "output_type": "display_data"
    }
   ],
   "source": [
    "# Plot showing the regression line on the test set\n",
    "plot_test = plt\n",
    "plot_test.scatter(X_test, y_test, color='black', s = 20)\n",
    "plot_test.plot(X_test, y_predicted, color='red', linewidth = 4)\n",
    "plot_test.title('Victims Injured VS. Victims Killed (test)')\n",
    "plot_test.xlabel('Victims Injured')\n",
    "plot_test.ylabel('Victims Killed')\n",
    "plot_test.show()"
   ]
  },
  {
   "cell_type": "markdown",
   "id": "65d09cfc",
   "metadata": {},
   "source": [
    "#\n",
    "The hypothesis was that there are more victims injured by gun violence than killed and the line does not appear to fit this model. "
   ]
  },
  {
   "cell_type": "code",
   "execution_count": 45,
   "id": "38f3f7a1",
   "metadata": {},
   "outputs": [],
   "source": [
    "rmse = mean_squared_error(y_test, y_predicted) # Mean squared error\n",
    "r2 = r2_score(y_test, y_predicted) # R2 score"
   ]
  },
  {
   "cell_type": "code",
   "execution_count": 46,
   "id": "a428f654",
   "metadata": {},
   "outputs": [
    {
     "name": "stdout",
     "output_type": "stream",
     "text": [
      "Slope:  [[-0.11595093]]\n",
      "Mean squared error:  0.3067910759785066\n",
      "R2 Score:  -0.010443770714851697\n"
     ]
    }
   ],
   "source": [
    "# Model Summary Statistics\n",
    "print('Slope: ', regression.coef_)\n",
    "print('Mean squared error: ', rmse)\n",
    "print('R2 Score: ', r2)"
   ]
  },
  {
   "cell_type": "code",
   "execution_count": 47,
   "id": "2e07d66d",
   "metadata": {},
   "outputs": [
    {
     "data": {
      "text/plain": [
       "array([[0.19241259],\n",
       "       [0.19241259],\n",
       "       [0.19241259],\n",
       "       ...,\n",
       "       [0.30836351],\n",
       "       [0.19241259],\n",
       "       [0.19241259]])"
      ]
     },
     "execution_count": 47,
     "metadata": {},
     "output_type": "execute_result"
    }
   ],
   "source": [
    "y_predicted"
   ]
  },
  {
   "cell_type": "code",
   "execution_count": 116,
   "id": "9cd49958",
   "metadata": {},
   "outputs": [
    {
     "data": {
      "text/html": [
       "<div>\n",
       "<style scoped>\n",
       "    .dataframe tbody tr th:only-of-type {\n",
       "        vertical-align: middle;\n",
       "    }\n",
       "\n",
       "    .dataframe tbody tr th {\n",
       "        vertical-align: top;\n",
       "    }\n",
       "\n",
       "    .dataframe thead th {\n",
       "        text-align: right;\n",
       "    }\n",
       "</style>\n",
       "<table border=\"1\" class=\"dataframe\">\n",
       "  <thead>\n",
       "    <tr style=\"text-align: right;\">\n",
       "      <th></th>\n",
       "      <th>Actual</th>\n",
       "      <th>Predicted</th>\n",
       "    </tr>\n",
       "  </thead>\n",
       "  <tbody>\n",
       "    <tr>\n",
       "      <th>0</th>\n",
       "      <td>1</td>\n",
       "      <td>0.070013</td>\n",
       "    </tr>\n",
       "    <tr>\n",
       "      <th>1</th>\n",
       "      <td>0</td>\n",
       "      <td>0.233662</td>\n",
       "    </tr>\n",
       "    <tr>\n",
       "      <th>2</th>\n",
       "      <td>1</td>\n",
       "      <td>0.288211</td>\n",
       "    </tr>\n",
       "    <tr>\n",
       "      <th>3</th>\n",
       "      <td>0</td>\n",
       "      <td>0.233662</td>\n",
       "    </tr>\n",
       "    <tr>\n",
       "      <th>4</th>\n",
       "      <td>0</td>\n",
       "      <td>0.179112</td>\n",
       "    </tr>\n",
       "    <tr>\n",
       "      <th>5</th>\n",
       "      <td>0</td>\n",
       "      <td>0.233662</td>\n",
       "    </tr>\n",
       "    <tr>\n",
       "      <th>6</th>\n",
       "      <td>0</td>\n",
       "      <td>0.288211</td>\n",
       "    </tr>\n",
       "    <tr>\n",
       "      <th>7</th>\n",
       "      <td>0</td>\n",
       "      <td>0.233662</td>\n",
       "    </tr>\n",
       "    <tr>\n",
       "      <th>8</th>\n",
       "      <td>0</td>\n",
       "      <td>0.233662</td>\n",
       "    </tr>\n",
       "    <tr>\n",
       "      <th>9</th>\n",
       "      <td>0</td>\n",
       "      <td>0.233662</td>\n",
       "    </tr>\n",
       "    <tr>\n",
       "      <th>10</th>\n",
       "      <td>0</td>\n",
       "      <td>0.288211</td>\n",
       "    </tr>\n",
       "    <tr>\n",
       "      <th>11</th>\n",
       "      <td>0</td>\n",
       "      <td>0.233662</td>\n",
       "    </tr>\n",
       "    <tr>\n",
       "      <th>12</th>\n",
       "      <td>0</td>\n",
       "      <td>0.233662</td>\n",
       "    </tr>\n",
       "    <tr>\n",
       "      <th>13</th>\n",
       "      <td>0</td>\n",
       "      <td>0.233662</td>\n",
       "    </tr>\n",
       "    <tr>\n",
       "      <th>14</th>\n",
       "      <td>0</td>\n",
       "      <td>0.288211</td>\n",
       "    </tr>\n",
       "    <tr>\n",
       "      <th>15</th>\n",
       "      <td>0</td>\n",
       "      <td>0.288211</td>\n",
       "    </tr>\n",
       "    <tr>\n",
       "      <th>16</th>\n",
       "      <td>0</td>\n",
       "      <td>0.233662</td>\n",
       "    </tr>\n",
       "    <tr>\n",
       "      <th>17</th>\n",
       "      <td>2</td>\n",
       "      <td>0.288211</td>\n",
       "    </tr>\n",
       "    <tr>\n",
       "      <th>18</th>\n",
       "      <td>1</td>\n",
       "      <td>0.233662</td>\n",
       "    </tr>\n",
       "    <tr>\n",
       "      <th>19</th>\n",
       "      <td>0</td>\n",
       "      <td>0.288211</td>\n",
       "    </tr>\n",
       "  </tbody>\n",
       "</table>\n",
       "</div>"
      ],
      "text/plain": [
       "    Actual  Predicted\n",
       "0        1   0.070013\n",
       "1        0   0.233662\n",
       "2        1   0.288211\n",
       "3        0   0.233662\n",
       "4        0   0.179112\n",
       "5        0   0.233662\n",
       "6        0   0.288211\n",
       "7        0   0.233662\n",
       "8        0   0.233662\n",
       "9        0   0.233662\n",
       "10       0   0.288211\n",
       "11       0   0.233662\n",
       "12       0   0.233662\n",
       "13       0   0.233662\n",
       "14       0   0.288211\n",
       "15       0   0.288211\n",
       "16       0   0.233662\n",
       "17       2   0.288211\n",
       "18       1   0.233662\n",
       "19       0   0.288211"
      ]
     },
     "execution_count": 116,
     "metadata": {},
     "output_type": "execute_result"
    }
   ],
   "source": [
    "# Comparing actual and predicted values of y\n",
    "data = pd.DataFrame({'Actual': y_test.flatten(), 'Predicted': y_predicted.flatten()})\n",
    "data.head(20)"
   ]
  },
  {
   "cell_type": "markdown",
   "id": "4d2991ce",
   "metadata": {},
   "source": [
    "#\n",
    "The Slope is -0.11595093 Indicating that there is a small negative relationship between the x and y variables\n",
    "\n",
    "The Mean Squared Error is 0.3067910759785066 Indicating that the model was close to predicitng the number of vicitms injured which is often 0\n",
    "\n",
    "The R2 value is -0.010443770714851697 Indicating that the model is a poor fit as it is closer to 0 than 1 and is not performing well. "
   ]
  },
  {
   "cell_type": "markdown",
   "id": "477aa069",
   "metadata": {},
   "source": [
    "# \n",
    "I would say this model is not performing well. I don't believe there is any human bias in this data set. I think the issue is sample bias, There aren't a lot of records for this data making less records for the model to use for predictions. Although i will say that model is predicting decimals and you can't have a percentage of a person arrested.  "
   ]
  },
  {
   "cell_type": "code",
   "execution_count": null,
   "id": "3c6ba6ad",
   "metadata": {},
   "outputs": [],
   "source": []
  }
 ],
 "metadata": {
  "kernelspec": {
   "display_name": "Python 3 (ipykernel)",
   "language": "python",
   "name": "python3"
  },
  "language_info": {
   "codemirror_mode": {
    "name": "ipython",
    "version": 3
   },
   "file_extension": ".py",
   "mimetype": "text/x-python",
   "name": "python",
   "nbconvert_exporter": "python",
   "pygments_lexer": "ipython3",
   "version": "3.10.9"
  }
 },
 "nbformat": 4,
 "nbformat_minor": 5
}
